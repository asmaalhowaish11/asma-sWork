{
  "nbformat": 4,
  "nbformat_minor": 0,
  "metadata": {
    "colab": {
      "provenance": [],
      "include_colab_link": true
    },
    "kernelspec": {
      "name": "python3",
      "display_name": "Python 3"
    },
    "language_info": {
      "name": "python"
    }
  },
  "cells": [
    {
      "cell_type": "markdown",
      "metadata": {
        "id": "view-in-github",
        "colab_type": "text"
      },
      "source": [
        "<a href=\"https://colab.research.google.com/github/asmaalhowaish11/asma-sWork/blob/main/Advanced_Python_Project_For_Masar_DS_asma_(1).ipynb\" target=\"_parent\"><img src=\"https://colab.research.google.com/assets/colab-badge.svg\" alt=\"Open In Colab\"/></a>"
      ]
    },
    {
      "cell_type": "markdown",
      "source": [
        "#Loops\n",
        "Here are some questions about loops and variants\n",
        "\n",
        "Q1. using for loop\n",
        "\n",
        "\n",
        "\n",
        "Q2. using while loop"
      ],
      "metadata": {
        "id": "SZjzwZk4b1Hx"
      }
    },
    {
      "cell_type": "markdown",
      "source": [
        "##Q1.\n",
        "Loop through and print out all even numbers from the numbers list in the same order they are received. Don't print any numbers that come after 52 in the sequence.\n",
        "\n",
        "\n",
        "\n",
        "```\n",
        "nums = [229, 792, 857, 579, 974, 346, 649, 454, 698, 347, 236, 297, 150, 698, 294, 663, 556, 712, 271, 283, 705, 347, 725, 716, 486, 642, 644, 728, 409, 208, 421, 799, 52, 796, 441, 374, 60, 948, 143, 698, 934, 561, 917, 678, 666, 476, 23, 743, 836, 655, 971, 372, 215, 567, 462, 127, 208, 683, 618, 96, 329, 92, 934, 992, 120, 944, 605, 78, 87, 216, 62, 919, 462, 597, 671, 493, 540, 451, 885, 375, 606, 90, 607, 443, 240, 708, 674, 111, 165, 858, 799, 39, 383, 602, 695, 689, 726, 344, 2, 335]\n",
        "\n",
        "```\n",
        "\n",
        "\n"
      ],
      "metadata": {
        "id": "MubxfeNQbEfg"
      }
    },
    {
      "cell_type": "code",
      "source": [
        "nums = [229, 792, 857, 579, 974, 346, 649, 454, 698, 347, 236, 297, 150, 698, 294, 663, 556, 712, 271, 283, 705, 347, 725, 716, 486, 642, 644, 728, 409, 208, 421, 799, 52, 796, 441, 374, 60, 948, 143, 698, 934, 561, 917, 678, 666, 476, 23, 743, 836, 655, 971, 372, 215, 567, 462, 127, 208, 683, 618, 96, 329, 92, 934, 992, 120, 944, 605, 78, 87, 216, 62, 919, 462, 597, 671, 493, 540, 451, 885, 375, 606, 90, 607, 443, 240, 708, 674, 111, 165, 858, 799, 39, 383, 602, 695, 689, 726, 344, 2, 335]\n",
        "\n",
        "for i in nums: # or you can use index but you have to get the len, i.e., l = len(nums)\n",
        "  if i == 52:\n",
        "    print(i)\n",
        "    break\n",
        "  if i % 2 == 0:\n",
        "   print(i)\n",
        "\n"
      ],
      "metadata": {
        "id": "UHPEHtocbjJj",
        "colab": {
          "base_uri": "https://localhost:8080/"
        },
        "outputId": "0e82df1d-7e54-426f-827c-cc4543527daf"
      },
      "execution_count": 4,
      "outputs": [
        {
          "output_type": "stream",
          "name": "stdout",
          "text": [
            "792\n",
            "974\n",
            "346\n",
            "454\n",
            "698\n",
            "236\n",
            "150\n",
            "698\n",
            "294\n",
            "556\n",
            "712\n",
            "716\n",
            "486\n",
            "642\n",
            "644\n",
            "728\n",
            "208\n",
            "52\n"
          ]
        }
      ]
    },
    {
      "cell_type": "markdown",
      "source": [
        "##Q2.\n",
        "\n",
        "# Prints out 0,1,2,3,4,...,9 and then it prints \"count value reached 10\"\n",
        "\n",
        "Hint: use \"while\" loop"
      ],
      "metadata": {
        "id": "tOZSXcvychXX"
      }
    },
    {
      "cell_type": "code",
      "source": [
        "#start by defining and counter\n",
        "for i in range(0,10):\n",
        "  print(i)\n",
        "print('count value reached 10')\n",
        "\n",
        "  #your code goes here"
      ],
      "metadata": {
        "id": "a0MocSyWcrXo",
        "colab": {
          "base_uri": "https://localhost:8080/"
        },
        "outputId": "b8632d54-3272-4252-f1f9-9a0f33489b5a"
      },
      "execution_count": 91,
      "outputs": [
        {
          "output_type": "stream",
          "name": "stdout",
          "text": [
            "0\n",
            "1\n",
            "2\n",
            "3\n",
            "4\n",
            "5\n",
            "6\n",
            "7\n",
            "8\n",
            "9\n",
            "count value reached 10\n"
          ]
        }
      ]
    },
    {
      "cell_type": "code",
      "source": [],
      "metadata": {
        "id": "TugU5nCvFdZK"
      },
      "execution_count": null,
      "outputs": []
    },
    {
      "cell_type": "markdown",
      "source": [
        "# Function"
      ],
      "metadata": {
        "id": "AU30FUchc_sj"
      }
    },
    {
      "cell_type": "markdown",
      "source": [
        "##Q1.\n",
        "\n",
        "Write a Python function that takes a list and returns a new list with distinct elements from the first list.\n",
        "\n",
        "\n",
        "\n",
        "```\n",
        "Sample List : [1,2,3,3,3,3,4,5]\n",
        "Unique List : [1, 2, 3, 4, 5]\n",
        "```\n",
        "\n"
      ],
      "metadata": {
        "id": "cBjZ-aJpeN_L"
      }
    },
    {
      "cell_type": "code",
      "source": [
        "samplelist = [1,2,3,3,3,3,4,5]\n",
        "\n",
        "def uniq(list_given):\n",
        "  newlist=[]\n",
        "  for i in list_given:\n",
        "    while i not in newlist:\n",
        "      newlist.append(i)\n",
        "    return newlist\n",
        "\n",
        "print(uniq(samplelist))"
      ],
      "metadata": {
        "colab": {
          "base_uri": "https://localhost:8080/"
        },
        "id": "Rgm2AJlhEKms",
        "outputId": "7943dfe7-c576-45cd-e91d-87645da2ca29"
      },
      "execution_count": 17,
      "outputs": [
        {
          "output_type": "stream",
          "name": "stdout",
          "text": [
            "[1]\n"
          ]
        }
      ]
    },
    {
      "cell_type": "code",
      "source": [
        "SampleList = [1,2,3,3,3,3,4,5]\n",
        "\n",
        "def uniq(list_given):\n",
        "\n",
        "\n",
        "  newList=[]\n",
        "  for i in list_given:\n",
        "    while i not in newList:\n",
        "      newList.append(i)\n",
        "  return newList\n",
        "\n",
        "print(uniq(SampleList))"
      ],
      "metadata": {
        "colab": {
          "base_uri": "https://localhost:8080/"
        },
        "id": "M9jFZ4hnER4p",
        "outputId": "a2d69b77-bbc2-4679-a11b-4761677a3e61"
      },
      "execution_count": 10,
      "outputs": [
        {
          "output_type": "stream",
          "name": "stdout",
          "text": [
            "[1, 2, 3, 4, 5]\n"
          ]
        }
      ]
    },
    {
      "cell_type": "markdown",
      "source": [
        "##Q2.\n",
        "function to find the factorial of a number\n",
        "\n",
        "\n",
        "Hint: don't use external library\n",
        "\n",
        "\n",
        "Hint: think about for loop or while loop\n"
      ],
      "metadata": {
        "id": "NwiFKNCvenZc"
      }
    },
    {
      "cell_type": "code",
      "source": [
        "#start defining the function\n",
        "def fact(n):\n",
        "  if n == 0:\n",
        "    return 1\n",
        "  else:\n",
        "    return n*fact(n-1)\n",
        "print(fact(5))\n",
        "\n",
        "  # your code is here"
      ],
      "metadata": {
        "id": "iwu5AIOXhdsZ",
        "colab": {
          "base_uri": "https://localhost:8080/"
        },
        "outputId": "d7032a8f-0634-4e52-ae1b-20f40ad88ce6"
      },
      "execution_count": 33,
      "outputs": [
        {
          "output_type": "stream",
          "name": "stdout",
          "text": [
            "120\n"
          ]
        }
      ]
    },
    {
      "cell_type": "markdown",
      "source": [
        "#Break\n",
        "\n",
        "Try to run this code\n",
        "\n",
        "```\n",
        "def f(x):\n",
        "    if x > 0:\n",
        "        print(\"Only printed when x is positive; x =\", x)\n",
        "        print(\"Also only printed when x is positive; x =\", x)\n",
        "    print(\"Always printed, regardless of x's value; x =\", x)\n",
        "\n",
        "f(1)\n",
        "f(0)\n",
        "```\n"
      ],
      "metadata": {
        "id": "ZF1g_7s2h7zi"
      }
    },
    {
      "cell_type": "code",
      "source": [
        "def f(x):\n",
        "    if x > 0:\n",
        "        print(\"Only printed when x is positive; x =\", x)\n",
        "        print(\"Also only printed when x is positive; x =\", x)\n",
        "    print(\"Always printed, regardless of x's value; x =\", x)\n",
        "\n",
        "f(1)\n",
        "f(0)"
      ],
      "metadata": {
        "id": "X2p0muapicsv",
        "colab": {
          "base_uri": "https://localhost:8080/"
        },
        "outputId": "27978d43-feda-4a88-98ff-ab98831411ca"
      },
      "execution_count": 34,
      "outputs": [
        {
          "output_type": "stream",
          "name": "stdout",
          "text": [
            "Only printed when x is positive; x = 1\n",
            "Also only printed when x is positive; x = 1\n",
            "Always printed, regardless of x's value; x = 1\n",
            "Always printed, regardless of x's value; x = 0\n"
          ]
        }
      ]
    },
    {
      "cell_type": "markdown",
      "source": [
        "#using Numpy and zip\n",
        "\n",
        "Imagine that you have a list of numbers from 1 to 26\n",
        "and we have another list that contains the alphabets\n",
        "letters = ['a', 'b',...,'z']\n",
        "\n",
        "I want to you to make a dictionary that map between the key and the corresponding letter\n",
        "\n",
        "hint: use Numpy and zip function (and try to find another library for the letters)\n",
        "\n",
        "\n",
        "\n",
        "\n",
        "```\n",
        "#sample code might be like this\n",
        "#try to solve it by yourself first\n",
        "import numpy as np\n",
        "a = np.arange(1,27)\n",
        "a = list(a)\n",
        "import string\n",
        "letters_list = list(string.ascii_lowercase)\n",
        "mapping = dict(zip(a, letters_list))\n",
        "mapping\n",
        "```\n",
        "\n"
      ],
      "metadata": {
        "id": "VtYXQ4Ufio86"
      }
    },
    {
      "cell_type": "code",
      "source": [
        "import numpy as np\n",
        "a = np.arange(1,27)\n",
        "a = list(a)\n",
        "import string\n",
        "letters_list = list(string.ascii_lowercase)\n",
        "mapping = dict(zip(a, letters_list))\n",
        "mapping"
      ],
      "metadata": {
        "id": "v6CVS5G3nAJy",
        "colab": {
          "base_uri": "https://localhost:8080/"
        },
        "outputId": "3d74869b-6981-4a11-fc44-59ad5e57b77b"
      },
      "execution_count": 35,
      "outputs": [
        {
          "output_type": "execute_result",
          "data": {
            "text/plain": [
              "{1: 'a',\n",
              " 2: 'b',\n",
              " 3: 'c',\n",
              " 4: 'd',\n",
              " 5: 'e',\n",
              " 6: 'f',\n",
              " 7: 'g',\n",
              " 8: 'h',\n",
              " 9: 'i',\n",
              " 10: 'j',\n",
              " 11: 'k',\n",
              " 12: 'l',\n",
              " 13: 'm',\n",
              " 14: 'n',\n",
              " 15: 'o',\n",
              " 16: 'p',\n",
              " 17: 'q',\n",
              " 18: 'r',\n",
              " 19: 's',\n",
              " 20: 't',\n",
              " 21: 'u',\n",
              " 22: 'v',\n",
              " 23: 'w',\n",
              " 24: 'x',\n",
              " 25: 'y',\n",
              " 26: 'z'}"
            ]
          },
          "metadata": {},
          "execution_count": 35
        }
      ]
    },
    {
      "cell_type": "markdown",
      "source": [
        "#Loops and List Comprehensions\n",
        "\n",
        "List comprehensions combined with functions like min, max, and sum can lead to impressive one-line solutions for problems that would otherwise require several lines of code.\n",
        "\n",
        "For example, compare the following two cells of code that do the same thing.\n",
        "\n",
        "\n",
        "\n",
        "```\n",
        "def count_negatives(nums):\n",
        "    \"\"\"Return the number of negative numbers in the given list.\n",
        "    \n",
        "    >>> count_negatives([5, -1, -2, 0, 3])\n",
        "    2\n",
        "    \"\"\"\n",
        "    n_negative = 0\n",
        "    for num in nums:\n",
        "        if num < 0:\n",
        "            n_negative = n_negative + 1\n",
        "    return n_negative\n",
        "```\n",
        "Here's a solution using a list comprehension:\n",
        "\n",
        "\n",
        "\n",
        "```\n",
        "def count_negatives(nums):\n",
        "    return len([num for num in nums if num < 0])\n",
        "```\n",
        "\n",
        "\n",
        "\n",
        "\n"
      ],
      "metadata": {
        "id": "0R6KAt7ntrdq"
      }
    },
    {
      "cell_type": "code",
      "source": [
        "def count_negatives(nums):\n",
        "    nums=([5, -1, -2, 0, 3])\n",
        "    return len([num for num in nums if num < 0])\n",
        "print(count_negatives(nums))"
      ],
      "metadata": {
        "colab": {
          "base_uri": "https://localhost:8080/"
        },
        "id": "1bjetmRpIN_Z",
        "outputId": "88b69359-935e-4354-c7fb-6f12fd5f898c"
      },
      "execution_count": 37,
      "outputs": [
        {
          "output_type": "stream",
          "name": "stdout",
          "text": [
            "2\n"
          ]
        }
      ]
    },
    {
      "cell_type": "markdown",
      "source": [
        "#Intro to Data Analysis and ML\n",
        "\n"
      ],
      "metadata": {
        "id": "vgqZdFIUvHjc"
      }
    },
    {
      "cell_type": "markdown",
      "source": [
        "#1 Importing data and packages\n",
        "\n",
        "copy this code and try to understand the syntax\n",
        "\n",
        "\n",
        "\n",
        "```\n",
        "#استخدام بايثون في المشين ليرنينج\n",
        "\n",
        "import pandas as pd\n",
        "from sklearn.datasets import load_iris\n",
        "\n",
        "# Load the Iris dataset\n",
        "iris = load_iris()\n",
        "\n",
        "# Create a DataFrame using the data and feature_names\n",
        "iris_df = pd.DataFrame(data=iris.data, columns=iris.feature_names)\n",
        "\n",
        "# Add the target column to the DataFrame\n",
        "iris_df['target'] = iris.target\n",
        "\n",
        "# Display the DataFrame\n",
        "print(iris_df)\n",
        "```\n",
        "\n"
      ],
      "metadata": {
        "id": "irVFkljbvNFp"
      }
    },
    {
      "cell_type": "code",
      "source": [
        "import pandas as pd\n",
        "from sklearn.datasets import load_iris\n",
        "\n",
        "# Load the Iris dataset\n",
        "iris = load_iris()\n",
        "\n",
        "# Create a DataFrame using the data and feature_names\n",
        "iris_df = pd.DataFrame(data=iris.data, columns=iris.feature_names)\n",
        "\n",
        "# Add the target column to the DataFrame\n",
        "iris_df['target'] = iris.target\n",
        "\n",
        "# Display the DataFrame\n",
        "print(iris_df)"
      ],
      "metadata": {
        "id": "xQWtMINivVrb",
        "colab": {
          "base_uri": "https://localhost:8080/"
        },
        "outputId": "57a190a7-297c-455a-8951-0df32cf374bd"
      },
      "execution_count": 38,
      "outputs": [
        {
          "output_type": "stream",
          "name": "stdout",
          "text": [
            "     sepal length (cm)  sepal width (cm)  petal length (cm)  petal width (cm)  \\\n",
            "0                  5.1               3.5                1.4               0.2   \n",
            "1                  4.9               3.0                1.4               0.2   \n",
            "2                  4.7               3.2                1.3               0.2   \n",
            "3                  4.6               3.1                1.5               0.2   \n",
            "4                  5.0               3.6                1.4               0.2   \n",
            "..                 ...               ...                ...               ...   \n",
            "145                6.7               3.0                5.2               2.3   \n",
            "146                6.3               2.5                5.0               1.9   \n",
            "147                6.5               3.0                5.2               2.0   \n",
            "148                6.2               3.4                5.4               2.3   \n",
            "149                5.9               3.0                5.1               1.8   \n",
            "\n",
            "     target  \n",
            "0         0  \n",
            "1         0  \n",
            "2         0  \n",
            "3         0  \n",
            "4         0  \n",
            "..      ...  \n",
            "145       2  \n",
            "146       2  \n",
            "147       2  \n",
            "148       2  \n",
            "149       2  \n",
            "\n",
            "[150 rows x 5 columns]\n"
          ]
        }
      ]
    },
    {
      "cell_type": "markdown",
      "source": [
        "#2 Data Visualization\n",
        "\n",
        "\n",
        "\n",
        "```\n",
        "import seaborn as sns\n",
        "import matplotlib.pyplot as plt\n",
        "\n",
        "# Load the Iris dataset\n",
        "iris = sns.load_dataset(\"iris\")\n",
        "\n",
        "# Pairplot: Scatterplot matrix\n",
        "sns.pairplot(iris, hue=\"species\", palette=\"husl\", markers=[\"o\", \"s\", \"D\"])\n",
        "plt.suptitle(\"Pairplot of Iris Dataset\", y=1.02)\n",
        "plt.show()\n",
        "\n",
        "# Boxplot: Distribution of features by species\n",
        "plt.figure(figsize=(12, 6))\n",
        "plt.subplot(2, 2, 1)\n",
        "sns.boxplot(x=\"species\", y=\"sepal_length\", data=iris)\n",
        "plt.subplot(2, 2, 2)\n",
        "sns.boxplot(x=\"species\", y=\"sepal_width\", data=iris)\n",
        "plt.subplot(2, 2, 3)\n",
        "sns.boxplot(x=\"species\", y=\"petal_length\", data=iris)\n",
        "plt.subplot(2, 2, 4)\n",
        "sns.boxplot(x=\"species\", y=\"petal_width\", data=iris)\n",
        "plt.suptitle(\"Boxplots of Iris Features by Species\", y=1.02)\n",
        "plt.show()\n",
        "\n",
        "# Violin plot: Distribution of features by species\n",
        "plt.figure(figsize=(12, 6))\n",
        "plt.subplot(2, 2, 1)\n",
        "sns.violinplot(x=\"species\", y=\"sepal_length\", data=iris)\n",
        "plt.subplot(2, 2, 2)\n",
        "sns.violinplot(x=\"species\", y=\"sepal_width\", data=iris)\n",
        "plt.subplot(2, 2, 3)\n",
        "sns.violinplot(x=\"species\", y=\"petal_length\", data=iris)\n",
        "plt.subplot(2, 2, 4)\n",
        "sns.violinplot(x=\"species\", y=\"petal_width\", data=iris)\n",
        "plt.suptitle(\"Violin Plots of Iris Features by Species\", y=1.02)\n",
        "plt.show()\n",
        "\n",
        "# Heatmap: Correlation matrix\n",
        "correlation_matrix = iris.corr()\n",
        "sns.heatmap(correlation_matrix, annot=True, cmap=\"coolwarm\", linewidths=.5)\n",
        "plt.title(\"Correlation Matrix of Iris Features\")\n",
        "plt.show()\n",
        "```\n",
        "\n"
      ],
      "metadata": {
        "id": "cmWQJoZVvWFC"
      }
    },
    {
      "cell_type": "code",
      "source": [
        "#paste the code here\n",
        "\n"
      ],
      "metadata": {
        "id": "xE331549vim7"
      },
      "execution_count": null,
      "outputs": []
    },
    {
      "cell_type": "markdown",
      "source": [
        "#Quiz\n",
        "\n",
        "Write a Python function called even_squares that takes a list of integers as input and returns a new list containing the squares of even numbers from the original list.\n",
        "\n",
        "Hint: work SMARTER not harder\n",
        "\n",
        "\n",
        "\n",
        "```\n",
        "numbers = [1, 2, 3, 4, 5, 6, 7, 8, 9, 10]\n",
        "result = even_squares(numbers)\n",
        "print(result)\n",
        "\n",
        "[4, 16, 36, 64, 100]\n",
        "\n",
        "\n",
        "```\n",
        "\n"
      ],
      "metadata": {
        "id": "WHfsLR62wgUX"
      }
    },
    {
      "cell_type": "code",
      "source": [
        "#your code goes here"
      ],
      "metadata": {
        "id": "qsbGpVLiwyg1"
      },
      "execution_count": null,
      "outputs": []
    },
    {
      "cell_type": "markdown",
      "source": [
        "#Thanks\n",
        "\n",
        "Best wishes,\n",
        "\n",
        "Abdullah\n",
        "\n",
        "```\n",
        "# This is formatted as code\n",
        "```\n",
        "\n"
      ],
      "metadata": {
        "id": "3fYvAF7Tw1F5"
      }
    }
  ]
}