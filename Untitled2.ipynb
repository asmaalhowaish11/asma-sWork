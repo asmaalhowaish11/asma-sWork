{
  "nbformat": 4,
  "nbformat_minor": 0,
  "metadata": {
    "colab": {
      "provenance": [],
      "authorship_tag": "ABX9TyMkgv99Yhg3U7ZuVjK2ecm2",
      "include_colab_link": true
    },
    "kernelspec": {
      "name": "python3",
      "display_name": "Python 3"
    },
    "language_info": {
      "name": "python"
    }
  },
  "cells": [
    {
      "cell_type": "markdown",
      "metadata": {
        "id": "view-in-github",
        "colab_type": "text"
      },
      "source": [
        "<a href=\"https://colab.research.google.com/github/asmaalhowaish11/asma-sWork/blob/main/Untitled2.ipynb\" target=\"_parent\"><img src=\"https://colab.research.google.com/assets/colab-badge.svg\" alt=\"Open In Colab\"/></a>"
      ]
    },
    {
      "cell_type": "code",
      "execution_count": 30,
      "metadata": {
        "colab": {
          "base_uri": "https://localhost:8080/"
        },
        "id": "4ebhTgMDI5Od",
        "outputId": "7676149c-dd62-4cac-9728-3f45acbcb729"
      },
      "outputs": [
        {
          "output_type": "stream",
          "name": "stdout",
          "text": [
            "my name is asma alhowaish i'm 24 old\n"
          ]
        }
      ],
      "source": [
        "name =str('asma alhowaish')\n",
        "age = str('24')\n",
        "print(\"my name is \"    + name, \"i'm \" + age, \"old\")"
      ]
    },
    {
      "cell_type": "code",
      "source": [
        "print(not True )"
      ],
      "metadata": {
        "colab": {
          "base_uri": "https://localhost:8080/"
        },
        "id": "caEw3kTJLUyA",
        "outputId": "18a4b76a-9f70-4988-92b8-23ff537de34f"
      },
      "execution_count": 31,
      "outputs": [
        {
          "output_type": "stream",
          "name": "stdout",
          "text": [
            "False\n"
          ]
        }
      ]
    }
  ]
}