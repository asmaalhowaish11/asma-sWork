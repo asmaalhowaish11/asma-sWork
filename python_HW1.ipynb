{
  "nbformat": 4,
  "nbformat_minor": 0,
  "metadata": {
    "colab": {
      "provenance": [],
      "authorship_tag": "ABX9TyNZN459COOGsOgneOlcWMt/",
      "include_colab_link": true
    },
    "kernelspec": {
      "name": "python3",
      "display_name": "Python 3"
    },
    "language_info": {
      "name": "python"
    }
  },
  "cells": [
    {
      "cell_type": "markdown",
      "metadata": {
        "id": "view-in-github",
        "colab_type": "text"
      },
      "source": [
        "<a href=\"https://colab.research.google.com/github/asmaalhowaish11/asma-sWork/blob/main/python_HW1.ipynb\" target=\"_parent\"><img src=\"https://colab.research.google.com/assets/colab-badge.svg\" alt=\"Open In Colab\"/></a>"
      ]
    },
    {
      "cell_type": "code",
      "source": [
        "name =str('asma alhowaish') #تعريف لمتغير الاسم\n",
        "age = str('24')\n",
        "print(\"my name is \"    + name, \"i'm \" + age, \"old\")"
      ],
      "metadata": {
        "colab": {
          "base_uri": "https://localhost:8080/"
        },
        "id": "nux54g97Sz9n",
        "outputId": "e5795546-e5fe-4381-eaed-5d65d7a62e76"
      },
      "execution_count": 5,
      "outputs": [
        {
          "output_type": "stream",
          "name": "stdout",
          "text": [
            "my name is asma alhowaish i'm 24 old\n"
          ]
        }
      ]
    },
    {
      "cell_type": "code",
      "execution_count": 6,
      "metadata": {
        "colab": {
          "base_uri": "https://localhost:8080/"
        },
        "id": "4ebhTgMDI5Od",
        "outputId": "c9165ac1-34e3-4cb1-8ac7-bbf155aa39a2"
      },
      "outputs": [
        {
          "output_type": "stream",
          "name": "stdout",
          "text": [
            "Hello everyone! my name is  asma alhowaish,im 24 old,(:سأصبح افضل عاملة بيانات في السعودية\n"
          ]
        }
      ],
      "source": [
        "name =str('asma alhowaish') #تعريف لمتغير الاسم\n",
        "age = str('24') #تعريف لمتغير العمر\n",
        "\n",
        "print(f'Hello everyone! my name is  {name},im {age} old,(:سأصبح افضل عاملة بيانات في السعودية') #امر طباعة"
      ]
    },
    {
      "cell_type": "code",
      "source": [],
      "metadata": {
        "id": "8S9-Mft3V1RV"
      },
      "execution_count": null,
      "outputs": []
    },
    {
      "cell_type": "code",
      "source": [],
      "metadata": {
        "id": "NwCbPGU5V1Yz"
      },
      "execution_count": null,
      "outputs": []
    },
    {
      "cell_type": "code",
      "source": [
        "print(not True )"
      ],
      "metadata": {
        "colab": {
          "base_uri": "https://localhost:8080/"
        },
        "id": "caEw3kTJLUyA",
        "outputId": "18a4b76a-9f70-4988-92b8-23ff537de34f"
      },
      "execution_count": 31,
      "outputs": [
        {
          "output_type": "stream",
          "name": "stdout",
          "text": [
            "False\n"
          ]
        }
      ]
    },
    {
      "cell_type": "code",
      "source": [
        "my_list = [1,2,3,\"masar\",5.0]"
      ],
      "metadata": {
        "id": "SOSKsjcWZW93"
      },
      "execution_count": 35,
      "outputs": []
    },
    {
      "cell_type": "code",
      "source": [
        "type(my_list)"
      ],
      "metadata": {
        "colab": {
          "base_uri": "https://localhost:8080/"
        },
        "id": "HzwsrJJNZtd0",
        "outputId": "ea00d2af-bf28-4605-9dc1-2ee999a8be62"
      },
      "execution_count": 33,
      "outputs": [
        {
          "output_type": "execute_result",
          "data": {
            "text/plain": [
              "list"
            ]
          },
          "metadata": {},
          "execution_count": 33
        }
      ]
    },
    {
      "cell_type": "code",
      "source": [
        "my_list"
      ],
      "metadata": {
        "colab": {
          "base_uri": "https://localhost:8080/"
        },
        "id": "KcMeYnEHZ0Iv",
        "outputId": "466520a2-4ebe-4865-e6ad-23906f15fd14"
      },
      "execution_count": 36,
      "outputs": [
        {
          "output_type": "execute_result",
          "data": {
            "text/plain": [
              "[1, 2, 3, 'masar', 5.0]"
            ]
          },
          "metadata": {},
          "execution_count": 36
        }
      ]
    },
    {
      "cell_type": "code",
      "source": [
        "my_list[3]=4"
      ],
      "metadata": {
        "id": "FMKTZH5uaApF"
      },
      "execution_count": 40,
      "outputs": []
    },
    {
      "cell_type": "code",
      "source": [
        "my_list"
      ],
      "metadata": {
        "colab": {
          "base_uri": "https://localhost:8080/"
        },
        "id": "Is9PFPDeaurq",
        "outputId": "836c515a-2354-42cb-a0a1-16ec269c0c35"
      },
      "execution_count": 42,
      "outputs": [
        {
          "output_type": "execute_result",
          "data": {
            "text/plain": [
              "[1, 2, 3, 4, 5.0]"
            ]
          },
          "metadata": {},
          "execution_count": 42
        }
      ]
    },
    {
      "cell_type": "code",
      "source": [
        "my_list.append(6)"
      ],
      "metadata": {
        "id": "BGX7Lm2vbCc1"
      },
      "execution_count": 43,
      "outputs": []
    },
    {
      "cell_type": "code",
      "source": [
        "my_list"
      ],
      "metadata": {
        "colab": {
          "base_uri": "https://localhost:8080/"
        },
        "id": "rH-mE74TbXeK",
        "outputId": "dacfa446-9b24-4fe4-94db-7369978377c0"
      },
      "execution_count": 44,
      "outputs": [
        {
          "output_type": "execute_result",
          "data": {
            "text/plain": [
              "[1, 2, 3, 4, 5.0, 6]"
            ]
          },
          "metadata": {},
          "execution_count": 44
        }
      ]
    },
    {
      "cell_type": "code",
      "source": [
        "del my_list[2]"
      ],
      "metadata": {
        "id": "f4DTLuPmbdR7"
      },
      "execution_count": 45,
      "outputs": []
    },
    {
      "cell_type": "code",
      "source": [
        "my_list"
      ],
      "metadata": {
        "colab": {
          "base_uri": "https://localhost:8080/"
        },
        "id": "dOkuLvWHbyYV",
        "outputId": "4fd92e74-b7bc-472e-e619-ff36fb85a972"
      },
      "execution_count": 63,
      "outputs": [
        {
          "output_type": "execute_result",
          "data": {
            "text/plain": [
              "[1, 2, 4, 5.0, 6]"
            ]
          },
          "metadata": {},
          "execution_count": 63
        }
      ]
    },
    {
      "cell_type": "code",
      "source": [
        "repeated_list = my_list * 2"
      ],
      "metadata": {
        "id": "v-cLDZzCb5zG"
      },
      "execution_count": 64,
      "outputs": []
    },
    {
      "cell_type": "code",
      "source": [
        "my_list"
      ],
      "metadata": {
        "colab": {
          "base_uri": "https://localhost:8080/"
        },
        "id": "_k-WW1oob7cj",
        "outputId": "fe231c1c-fe37-431a-c84f-a9deb39ff7e5"
      },
      "execution_count": 65,
      "outputs": [
        {
          "output_type": "execute_result",
          "data": {
            "text/plain": [
              "[1, 2, 4, 5.0, 6]"
            ]
          },
          "metadata": {},
          "execution_count": 65
        }
      ]
    },
    {
      "cell_type": "code",
      "source": [
        "length = len(my_list)"
      ],
      "metadata": {
        "id": "CcdxyVijcp_3"
      },
      "execution_count": 53,
      "outputs": []
    },
    {
      "cell_type": "code",
      "source": [
        "length"
      ],
      "metadata": {
        "colab": {
          "base_uri": "https://localhost:8080/"
        },
        "id": "E62zeYRBc5nR",
        "outputId": "43468f4c-9426-4059-a1f9-4ba2c241eb12"
      },
      "execution_count": 54,
      "outputs": [
        {
          "output_type": "execute_result",
          "data": {
            "text/plain": [
              "5"
            ]
          },
          "metadata": {},
          "execution_count": 54
        }
      ]
    },
    {
      "cell_type": "code",
      "source": [
        "sorted_list = sorted(repeated_list)"
      ],
      "metadata": {
        "id": "8e03QHOzdFf9"
      },
      "execution_count": 61,
      "outputs": []
    },
    {
      "cell_type": "code",
      "source": [
        "sorted_list"
      ],
      "metadata": {
        "colab": {
          "base_uri": "https://localhost:8080/"
        },
        "id": "4plJyGPidQJc",
        "outputId": "e4d568fa-4472-49e0-adc1-3058055649f1"
      },
      "execution_count": 62,
      "outputs": [
        {
          "output_type": "execute_result",
          "data": {
            "text/plain": [
              "[1, 1, 2, 2, 4, 4, 5.0, 5.0, 6, 6]"
            ]
          },
          "metadata": {},
          "execution_count": 62
        }
      ]
    },
    {
      "cell_type": "code",
      "source": [
        "a= 1,6"
      ],
      "metadata": {
        "id": "LGmB1GrbeEOQ"
      },
      "execution_count": 80,
      "outputs": []
    },
    {
      "cell_type": "code",
      "source": [
        "b= 5,4"
      ],
      "metadata": {
        "id": "NTMeJIX0eDJI"
      },
      "execution_count": 81,
      "outputs": []
    },
    {
      "cell_type": "code",
      "source": [
        "c= a+b"
      ],
      "metadata": {
        "id": "54U6mTxNehMv"
      },
      "execution_count": 84,
      "outputs": []
    },
    {
      "cell_type": "code",
      "source": [
        "c"
      ],
      "metadata": {
        "colab": {
          "base_uri": "https://localhost:8080/"
        },
        "id": "21YPlWg2em8E",
        "outputId": "70205328-5b16-4694-9528-b7a7528b184d"
      },
      "execution_count": 85,
      "outputs": [
        {
          "output_type": "execute_result",
          "data": {
            "text/plain": [
              "(1, 6, 5, 4)"
            ]
          },
          "metadata": {},
          "execution_count": 85
        }
      ]
    },
    {
      "cell_type": "code",
      "source": [
        "c_moratab = sorted(c)"
      ],
      "metadata": {
        "id": "s0gHFxvqfBIC"
      },
      "execution_count": 86,
      "outputs": []
    },
    {
      "cell_type": "code",
      "source": [
        "c_moratab"
      ],
      "metadata": {
        "colab": {
          "base_uri": "https://localhost:8080/"
        },
        "id": "nsPVd3yRfO0N",
        "outputId": "a50b5ced-bca5-49fd-d772-99a3b10eff4f"
      },
      "execution_count": 87,
      "outputs": [
        {
          "output_type": "execute_result",
          "data": {
            "text/plain": [
              "[1, 4, 5, 6]"
            ]
          },
          "metadata": {},
          "execution_count": 87
        }
      ]
    },
    {
      "cell_type": "code",
      "source": [
        "iindex=c.index(5)"
      ],
      "metadata": {
        "id": "vF-qsPeCgKw5"
      },
      "execution_count": 93,
      "outputs": []
    },
    {
      "cell_type": "code",
      "source": [
        "iindex"
      ],
      "metadata": {
        "colab": {
          "base_uri": "https://localhost:8080/"
        },
        "id": "k74ov475gTUQ",
        "outputId": "5fd814f4-4167-4912-9390-772102519b82"
      },
      "execution_count": 94,
      "outputs": [
        {
          "output_type": "execute_result",
          "data": {
            "text/plain": [
              "2"
            ]
          },
          "metadata": {},
          "execution_count": 94
        }
      ]
    },
    {
      "cell_type": "code",
      "source": [
        "nested_list =[[1,2,3],[4,5,6],[7,8,9]]"
      ],
      "metadata": {
        "id": "A_XCmJCkhL56"
      },
      "execution_count": 99,
      "outputs": []
    },
    {
      "cell_type": "code",
      "source": [
        "nested_list[0][1]"
      ],
      "metadata": {
        "colab": {
          "base_uri": "https://localhost:8080/"
        },
        "id": "DyLQOTw9hrFK",
        "outputId": "0de0897f-a159-49e2-e809-280e8ebb14ab"
      },
      "execution_count": 103,
      "outputs": [
        {
          "output_type": "execute_result",
          "data": {
            "text/plain": [
              "2"
            ]
          },
          "metadata": {},
          "execution_count": 103
        }
      ]
    },
    {
      "cell_type": "code",
      "source": [
        "my_tuple =(1,'tow',3.0)"
      ],
      "metadata": {
        "id": "RnY_gM4diJ2U"
      },
      "execution_count": 106,
      "outputs": []
    },
    {
      "cell_type": "code",
      "source": [
        "print(my_tuple[0])"
      ],
      "metadata": {
        "colab": {
          "base_uri": "https://localhost:8080/"
        },
        "id": "guzYon3IjJa1",
        "outputId": "af683ba8-afe7-4616-9e75-bb2ccad8ae0f"
      },
      "execution_count": 107,
      "outputs": [
        {
          "output_type": "stream",
          "name": "stdout",
          "text": [
            "1\n"
          ]
        }
      ]
    },
    {
      "cell_type": "code",
      "source": [
        "a,b,c=my_tuple"
      ],
      "metadata": {
        "id": "j7V8VZrkjYcB"
      },
      "execution_count": 108,
      "outputs": []
    },
    {
      "cell_type": "code",
      "source": [
        "print(a,b,c)"
      ],
      "metadata": {
        "colab": {
          "base_uri": "https://localhost:8080/"
        },
        "id": "ZjGiTt4Qje28",
        "outputId": "4b76250a-8662-4d5e-cd90-dd0ae2cbe76a"
      },
      "execution_count": 109,
      "outputs": [
        {
          "output_type": "stream",
          "name": "stdout",
          "text": [
            "1 tow 3.0\n"
          ]
        }
      ]
    },
    {
      "cell_type": "code",
      "source": [
        "my_set=(1,1,2,2,3,3,'four',5)"
      ],
      "metadata": {
        "id": "XZBXiszbjrfl"
      },
      "execution_count": 122,
      "outputs": []
    },
    {
      "cell_type": "code",
      "source": [
        " print(my_set)"
      ],
      "metadata": {
        "colab": {
          "base_uri": "https://localhost:8080/"
        },
        "id": "JBB5-l_ekCyn",
        "outputId": "ddaadd87-52ea-49f2-d295-5eb8c4a64bd0"
      },
      "execution_count": 123,
      "outputs": [
        {
          "output_type": "stream",
          "name": "stdout",
          "text": [
            "(1, 1, 2, 2, 3, 3, 'four', 5)\n"
          ]
        }
      ]
    },
    {
      "cell_type": "code",
      "source": [
        "def greet(name):\n",
        "  print('  hello  ' +name)\n"
      ],
      "metadata": {
        "id": "U3StWvdPlKHy"
      },
      "execution_count": 131,
      "outputs": []
    },
    {
      "cell_type": "code",
      "source": [
        "greet('masar')\n"
      ],
      "metadata": {
        "colab": {
          "base_uri": "https://localhost:8080/"
        },
        "id": "Nse8lDnMmhkY",
        "outputId": "dc2ff225-db42-411a-fec1-3ae89c6e96c3"
      },
      "execution_count": 132,
      "outputs": [
        {
          "output_type": "stream",
          "name": "stdout",
          "text": [
            "  hello  masar\n"
          ]
        }
      ]
    },
    {
      "cell_type": "code",
      "source": [
        "def addone(x):\n",
        "  return x+5"
      ],
      "metadata": {
        "id": "t3xVSwQ0nJzw"
      },
      "execution_count": 140,
      "outputs": []
    },
    {
      "cell_type": "code",
      "source": [
        "print(addone(5))"
      ],
      "metadata": {
        "colab": {
          "base_uri": "https://localhost:8080/"
        },
        "id": "0pUoWfbcniLR",
        "outputId": "ff24b386-80e7-47cf-dd1d-7fc01840e078"
      },
      "execution_count": 141,
      "outputs": [
        {
          "output_type": "stream",
          "name": "stdout",
          "text": [
            "10\n"
          ]
        }
      ]
    },
    {
      "cell_type": "code",
      "source": [
        "for i in range(1,7):\n",
        "  print(i)"
      ],
      "metadata": {
        "colab": {
          "base_uri": "https://localhost:8080/"
        },
        "id": "cPFC8L3OoQ6G",
        "outputId": "f75afb75-78fe-4995-9bfe-97cd008d5a6d"
      },
      "execution_count": 142,
      "outputs": [
        {
          "output_type": "stream",
          "name": "stdout",
          "text": [
            "1\n",
            "2\n",
            "3\n",
            "4\n",
            "5\n",
            "6\n"
          ]
        }
      ]
    },
    {
      "cell_type": "code",
      "source": [
        "counter=1\n",
        "while counter <=5:\n",
        "  print(counter)\n",
        "  counter+=2"
      ],
      "metadata": {
        "colab": {
          "base_uri": "https://localhost:8080/"
        },
        "id": "cr864f-Lo9fD",
        "outputId": "9cce6267-a5e1-4c4a-d83d-dc98f621b539"
      },
      "execution_count": 144,
      "outputs": [
        {
          "output_type": "stream",
          "name": "stdout",
          "text": [
            "1\n",
            "3\n",
            "5\n"
          ]
        }
      ]
    },
    {
      "cell_type": "code",
      "source": [
        "num=0\n",
        "while num <=100:\n",
        "  print(num)\n",
        "  num +=2"
      ],
      "metadata": {
        "colab": {
          "base_uri": "https://localhost:8080/"
        },
        "id": "8M77LPEJpzFY",
        "outputId": "4a8a004b-e766-45a4-e7cb-8493e03dd06b"
      },
      "execution_count": 146,
      "outputs": [
        {
          "output_type": "stream",
          "name": "stdout",
          "text": [
            "0\n",
            "2\n",
            "4\n",
            "6\n",
            "8\n",
            "10\n",
            "12\n",
            "14\n",
            "16\n",
            "18\n",
            "20\n",
            "22\n",
            "24\n",
            "26\n",
            "28\n",
            "30\n",
            "32\n",
            "34\n",
            "36\n",
            "38\n",
            "40\n",
            "42\n",
            "44\n",
            "46\n",
            "48\n",
            "50\n",
            "52\n",
            "54\n",
            "56\n",
            "58\n",
            "60\n",
            "62\n",
            "64\n",
            "66\n",
            "68\n",
            "70\n",
            "72\n",
            "74\n",
            "76\n",
            "78\n",
            "80\n",
            "82\n",
            "84\n",
            "86\n",
            "88\n",
            "90\n",
            "92\n",
            "94\n",
            "96\n",
            "98\n",
            "100\n"
          ]
        }
      ]
    },
    {
      "cell_type": "code",
      "source": [
        "fruits=[' تفاحة',' موز',' فراولة',' عنب']\n",
        "for i in fruits:\n",
        "  #print(f'انا احب {i}')\n",
        "  print(' i love, ' ,i)"
      ],
      "metadata": {
        "colab": {
          "base_uri": "https://localhost:8080/"
        },
        "id": "snlANnkaqR-S",
        "outputId": "81c6c6db-f75c-4464-9ff0-24a9263eeef1"
      },
      "execution_count": 9,
      "outputs": [
        {
          "output_type": "stream",
          "name": "stdout",
          "text": [
            " i love,   تفاحة\n",
            " i love,   موز\n",
            " i love,   فراولة\n",
            " i love,   عنب\n"
          ]
        }
      ]
    },
    {
      "cell_type": "code",
      "source": [],
      "metadata": {
        "id": "1omn2KgHKIk2"
      },
      "execution_count": null,
      "outputs": []
    }
  ]
}