{
  "nbformat": 4,
  "nbformat_minor": 0,
  "metadata": {
    "colab": {
      "provenance": [],
      "authorship_tag": "ABX9TyO+yGpWZLJwAyGuC0/ddF2j",
      "include_colab_link": true
    },
    "kernelspec": {
      "name": "python3",
      "display_name": "Python 3"
    },
    "language_info": {
      "name": "python"
    }
  },
  "cells": [
    {
      "cell_type": "markdown",
      "metadata": {
        "id": "view-in-github",
        "colab_type": "text"
      },
      "source": [
        "<a href=\"https://colab.research.google.com/github/asmaalhowaish11/asma-sWork/blob/main/quiz.ipynb\" target=\"_parent\"><img src=\"https://colab.research.google.com/assets/colab-badge.svg\" alt=\"Open In Colab\"/></a>"
      ]
    },
    {
      "cell_type": "code",
      "execution_count": 5,
      "metadata": {
        "id": "daFpKd_SXmki",
        "colab": {
          "base_uri": "https://localhost:8080/"
        },
        "outputId": "6bffc8ba-ca82-40da-880a-6de53d708dce"
      },
      "outputs": [
        {
          "output_type": "stream",
          "name": "stdout",
          "text": [
            "[0, 2]\n"
          ]
        }
      ],
      "source": [
        "nums = [6,8,7,14,20,11,3,5]\n",
        "target = 13\n",
        "\n",
        "\n",
        "def two_sum(nums, target):\n",
        "    num_dict = {}\n",
        "    for i, num in enumerate(nums):\n",
        "\n",
        "        difference = target - num\n",
        "\n",
        "        if difference in num_dict:\n",
        "\n",
        "            return [num_dict[difference], i]\n",
        "\n",
        "        num_dict[num] = i\n",
        "\n",
        "\n",
        "    return None\n",
        "\n",
        "print(two_sum(nums, target))"
      ]
    }
  ]
}